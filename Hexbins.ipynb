{
 "cells": [
  {
   "cell_type": "code",
   "execution_count": 1,
   "metadata": {},
   "outputs": [],
   "source": [
    "import pandas as pd\n",
    "import geopandas as gpd\n",
    "from h3 import h3\n",
    "import keplergl\n",
    "from shapely.geometry import Polygon\n",
    "import os\n",
    "from glob import glob"
   ]
  },
  {
   "cell_type": "code",
   "execution_count": 14,
   "metadata": {},
   "outputs": [],
   "source": [
    "class HexBins():\n",
    "    \n",
    "    def coordsToH3HexBinID(self, row, zoomLevel):\n",
    "        #zoomLevel  = self.getBinSize()\n",
    "        return h3.geo_to_h3(row['LAT'], row['LON'], zoomLevel)\n",
    "    \n",
    "    def addGeometry(self, row):\n",
    "        points = h3.h3_to_geo_boundary(row['H3Index'], True)\n",
    "        return Polygon(points)\n",
    "    \n",
    "    def __init__(self,directory):\n",
    "        currentDirectory = os.chdir(directory)\n",
    "        dataFiles = glob('*.csv')\n",
    "        dfList = []\n",
    "        for file in dataFiles:\n",
    "            df = pd.read_csv(file)\n",
    "            columns = ['CITY_TOWN_NAME','CRASH_DATE_TEXT','CRASH_TIME','LAT','LON']\n",
    "            df.drop(df.columns.difference(columns), 1, inplace=True)\n",
    "            df['datetime'] = pd.to_datetime(df['CRASH_DATE_TEXT'] + ' ' + df['CRASH_TIME'])\n",
    "            df.dropna(inplace=True)\n",
    "            df.set_index('datetime', inplace=True)\n",
    "            dfList.append(df)\n",
    "        self.data = pd.concat(dfList)\n",
    "        self.data['H3Index'] = self.data.apply(self.coordsToH3HexBinID args = [int(input('Enter Zoom Level: '))], axis=1)\n",
    "        return\n",
    "    \n",
    "    '''\n",
    "    count number of events in each hexbin.\n",
    "    returns a dataframe\n",
    "    '''\n",
    "    def groupHexbinsCounts(self):    \n",
    "        self.groupedDF = self.data.groupby(by='H3Index').size().reset_index()\n",
    "        self.groupedDF.columns = ['HexID', 'Count']\n",
    "        self.groupedDF['geometry'] = groupedDF.apply(self.addGeometry, axis=1)\n",
    "        return groupedDF\n",
    "    \n",
    "    \n",
    "        \n",
    "       \n",
    "    \n",
    "#    def mapData(self):\n",
    "#        keplerMap = keplergl.KeplerGl(height = 800)\n",
    "#        keplerMap.add_data(data = self.geoDF, name = 'AccidentClusters')\n",
    "#        keplerMap\n",
    "        "
   ]
  },
  {
   "cell_type": "code",
   "execution_count": 18,
   "metadata": {},
   "outputs": [
    {
     "name": "stderr",
     "output_type": "stream",
     "text": [
      "C:\\Users\\Kevin\\anaconda3\\envs\\gdal\\lib\\site-packages\\IPython\\core\\interactiveshell.py:3338: DtypeWarning: Columns (25,29,30,32,33,34) have mixed types.Specify dtype option on import or set low_memory=False.\n",
      "  if (await self.run_code(code, result,  async_=asy)):\n"
     ]
    }
   ],
   "source": [
    "test = HexBins(r\"C:\\Users\\Kevin\\Documents\\AccidentData\\test\")"
   ]
  },
  {
   "cell_type": "code",
   "execution_count": 55,
   "metadata": {},
   "outputs": [
    {
     "name": "stdout",
     "output_type": "stream",
     "text": [
      "User Guide: https://docs.kepler.gl/docs/keplergl-jupyter\n"
     ]
    }
   ],
   "source": [
    "keplerMap = keplergl.KeplerGl(height = 800)"
   ]
  },
  {
   "cell_type": "code",
   "execution_count": 56,
   "metadata": {},
   "outputs": [],
   "source": [
    "keplerMap.add_data(test.data, name='Accidents')"
   ]
  },
  {
   "cell_type": "code",
   "execution_count": 58,
   "metadata": {
    "scrolled": true
   },
   "outputs": [
    {
     "data": {
      "application/vnd.jupyter.widget-view+json": {
       "model_id": "40aeb6ebd2714fe2a794d965f5edb87a",
       "version_major": 2,
       "version_minor": 0
      },
      "text/plain": [
       "KeplerGl(config={'version': 'v1', 'config': {'visState': {'filters': [], 'layers': [{'id': 'ckr030m', 'type': …"
      ]
     },
     "metadata": {},
     "output_type": "display_data"
    }
   ],
   "source": [
    "keplerMap"
   ]
  },
  {
   "cell_type": "code",
   "execution_count": 21,
   "metadata": {},
   "outputs": [],
   "source": [
    "df = test.data.copy()"
   ]
  },
  {
   "cell_type": "code",
   "execution_count": 61,
   "metadata": {},
   "outputs": [],
   "source": [
    "geoDF = gpd.GeoDataFrame(df, geometry = gpd.points_from_xy(df.LAT, df.LON))"
   ]
  },
  {
   "cell_type": "code",
   "execution_count": 58,
   "metadata": {},
   "outputs": [
    {
     "ename": "TypeError",
     "evalue": "cannot convert the series to <class 'float'>",
     "output_type": "error",
     "traceback": [
      "\u001b[1;31m---------------------------------------------------------------------------\u001b[0m",
      "\u001b[1;31mTypeError\u001b[0m                                 Traceback (most recent call last)",
      "\u001b[1;32m<ipython-input-58-af5c04f58ee4>\u001b[0m in \u001b[0;36m<module>\u001b[1;34m\u001b[0m\n\u001b[1;32m----> 1\u001b[1;33m \u001b[0mdf\u001b[0m\u001b[1;33m[\u001b[0m\u001b[1;34m'H3Index'\u001b[0m\u001b[1;33m]\u001b[0m \u001b[1;33m=\u001b[0m \u001b[0mdf\u001b[0m\u001b[1;33m.\u001b[0m\u001b[0mapply\u001b[0m\u001b[1;33m(\u001b[0m\u001b[0mh3\u001b[0m\u001b[1;33m.\u001b[0m\u001b[0mgeo_to_h3\u001b[0m\u001b[1;33m(\u001b[0m\u001b[0mdf\u001b[0m\u001b[1;33m[\u001b[0m\u001b[1;34m'LAT'\u001b[0m\u001b[1;33m]\u001b[0m\u001b[1;33m,\u001b[0m \u001b[0mdf\u001b[0m\u001b[1;33m[\u001b[0m\u001b[1;34m'LON'\u001b[0m\u001b[1;33m]\u001b[0m\u001b[1;33m,\u001b[0m \u001b[1;36m10\u001b[0m\u001b[1;33m)\u001b[0m\u001b[1;33m,\u001b[0m \u001b[0maxis\u001b[0m\u001b[1;33m=\u001b[0m\u001b[1;36m1\u001b[0m\u001b[1;33m)\u001b[0m\u001b[1;33m\u001b[0m\u001b[1;33m\u001b[0m\u001b[0m\n\u001b[0m",
      "\u001b[1;32m~\\anaconda3\\envs\\gdal\\lib\\site-packages\\h3\\api\\_api_template.py\u001b[0m in \u001b[0;36mgeo_to_h3\u001b[1;34m(lat, lng, resolution)\u001b[0m\n\u001b[0;32m    185\u001b[0m \u001b[1;33m\u001b[0m\u001b[0m\n\u001b[0;32m    186\u001b[0m         \"\"\"\n\u001b[1;32m--> 187\u001b[1;33m         \u001b[1;32mreturn\u001b[0m \u001b[0m_out_scalar\u001b[0m\u001b[1;33m(\u001b[0m\u001b[0m_cy\u001b[0m\u001b[1;33m.\u001b[0m\u001b[0mgeo_to_h3\u001b[0m\u001b[1;33m(\u001b[0m\u001b[0mlat\u001b[0m\u001b[1;33m,\u001b[0m \u001b[0mlng\u001b[0m\u001b[1;33m,\u001b[0m \u001b[0mresolution\u001b[0m\u001b[1;33m)\u001b[0m\u001b[1;33m)\u001b[0m\u001b[1;33m\u001b[0m\u001b[1;33m\u001b[0m\u001b[0m\n\u001b[0m\u001b[0;32m    188\u001b[0m \u001b[1;33m\u001b[0m\u001b[0m\n\u001b[0;32m    189\u001b[0m     \u001b[1;32mdef\u001b[0m \u001b[0mh3_to_geo\u001b[0m\u001b[1;33m(\u001b[0m\u001b[0mh\u001b[0m\u001b[1;33m)\u001b[0m\u001b[1;33m:\u001b[0m\u001b[1;33m\u001b[0m\u001b[1;33m\u001b[0m\u001b[0m\n",
      "\u001b[1;32mgeo.pyx\u001b[0m in \u001b[0;36mh3._cy.geo.geo_to_h3\u001b[1;34m()\u001b[0m\n",
      "\u001b[1;32m~\\anaconda3\\envs\\gdal\\lib\\site-packages\\pandas\\core\\series.py\u001b[0m in \u001b[0;36mwrapper\u001b[1;34m(self)\u001b[0m\n\u001b[0;32m    127\u001b[0m         \u001b[1;32mif\u001b[0m \u001b[0mlen\u001b[0m\u001b[1;33m(\u001b[0m\u001b[0mself\u001b[0m\u001b[1;33m)\u001b[0m \u001b[1;33m==\u001b[0m \u001b[1;36m1\u001b[0m\u001b[1;33m:\u001b[0m\u001b[1;33m\u001b[0m\u001b[1;33m\u001b[0m\u001b[0m\n\u001b[0;32m    128\u001b[0m             \u001b[1;32mreturn\u001b[0m \u001b[0mconverter\u001b[0m\u001b[1;33m(\u001b[0m\u001b[0mself\u001b[0m\u001b[1;33m.\u001b[0m\u001b[0miloc\u001b[0m\u001b[1;33m[\u001b[0m\u001b[1;36m0\u001b[0m\u001b[1;33m]\u001b[0m\u001b[1;33m)\u001b[0m\u001b[1;33m\u001b[0m\u001b[1;33m\u001b[0m\u001b[0m\n\u001b[1;32m--> 129\u001b[1;33m         \u001b[1;32mraise\u001b[0m \u001b[0mTypeError\u001b[0m\u001b[1;33m(\u001b[0m\u001b[1;34mf\"cannot convert the series to {converter}\"\u001b[0m\u001b[1;33m)\u001b[0m\u001b[1;33m\u001b[0m\u001b[1;33m\u001b[0m\u001b[0m\n\u001b[0m\u001b[0;32m    130\u001b[0m \u001b[1;33m\u001b[0m\u001b[0m\n\u001b[0;32m    131\u001b[0m     \u001b[0mwrapper\u001b[0m\u001b[1;33m.\u001b[0m\u001b[0m__name__\u001b[0m \u001b[1;33m=\u001b[0m \u001b[1;34mf\"__{converter.__name__}__\"\u001b[0m\u001b[1;33m\u001b[0m\u001b[1;33m\u001b[0m\u001b[0m\n",
      "\u001b[1;31mTypeError\u001b[0m: cannot convert the series to <class 'float'>"
     ]
    }
   ],
   "source": [
    "df['H3Index'] = df.apply(h3.geo_to_h3(df['LAT'], df['LON'], 10), axis=1)"
   ]
  },
  {
   "cell_type": "code",
   "execution_count": 62,
   "metadata": {},
   "outputs": [
    {
     "data": {
      "text/html": [
       "<div>\n",
       "<style scoped>\n",
       "    .dataframe tbody tr th:only-of-type {\n",
       "        vertical-align: middle;\n",
       "    }\n",
       "\n",
       "    .dataframe tbody tr th {\n",
       "        vertical-align: top;\n",
       "    }\n",
       "\n",
       "    .dataframe thead th {\n",
       "        text-align: right;\n",
       "    }\n",
       "</style>\n",
       "<table border=\"1\" class=\"dataframe\">\n",
       "  <thead>\n",
       "    <tr style=\"text-align: right;\">\n",
       "      <th></th>\n",
       "      <th>CITY_TOWN_NAME</th>\n",
       "      <th>CRASH_DATE_TEXT</th>\n",
       "      <th>CRASH_TIME</th>\n",
       "      <th>LAT</th>\n",
       "      <th>LON</th>\n",
       "      <th>geometry</th>\n",
       "    </tr>\n",
       "    <tr>\n",
       "      <th>datetime</th>\n",
       "      <th></th>\n",
       "      <th></th>\n",
       "      <th></th>\n",
       "      <th></th>\n",
       "      <th></th>\n",
       "      <th></th>\n",
       "    </tr>\n",
       "  </thead>\n",
       "  <tbody>\n",
       "    <tr>\n",
       "      <th>2011-01-08 12:55:00</th>\n",
       "      <td>REVERE</td>\n",
       "      <td>01/08/2011</td>\n",
       "      <td>12:55 PM</td>\n",
       "      <td>42.428736</td>\n",
       "      <td>-71.017399</td>\n",
       "      <td>POINT (42.42874 -71.01740)</td>\n",
       "    </tr>\n",
       "    <tr>\n",
       "      <th>2011-01-12 12:23:00</th>\n",
       "      <td>MANCHESTER</td>\n",
       "      <td>01/12/2011</td>\n",
       "      <td>12:23 PM</td>\n",
       "      <td>42.590394</td>\n",
       "      <td>-70.793323</td>\n",
       "      <td>POINT (42.59039 -70.79332)</td>\n",
       "    </tr>\n",
       "    <tr>\n",
       "      <th>2011-01-12 12:23:00</th>\n",
       "      <td>MANCHESTER</td>\n",
       "      <td>01/12/2011</td>\n",
       "      <td>12:23 PM</td>\n",
       "      <td>42.590394</td>\n",
       "      <td>-70.793323</td>\n",
       "      <td>POINT (42.59039 -70.79332)</td>\n",
       "    </tr>\n",
       "    <tr>\n",
       "      <th>2011-01-08 13:14:00</th>\n",
       "      <td>WEST SPRINGFIELD</td>\n",
       "      <td>01/08/2011</td>\n",
       "      <td>1:14 PM</td>\n",
       "      <td>42.135914</td>\n",
       "      <td>-72.618836</td>\n",
       "      <td>POINT (42.13591 -72.61884)</td>\n",
       "    </tr>\n",
       "    <tr>\n",
       "      <th>2011-01-07 15:02:00</th>\n",
       "      <td>SAVOY</td>\n",
       "      <td>01/07/2011</td>\n",
       "      <td>3:02 PM</td>\n",
       "      <td>42.634329</td>\n",
       "      <td>-72.973417</td>\n",
       "      <td>POINT (42.63433 -72.97342)</td>\n",
       "    </tr>\n",
       "  </tbody>\n",
       "</table>\n",
       "</div>"
      ],
      "text/plain": [
       "                       CITY_TOWN_NAME CRASH_DATE_TEXT CRASH_TIME        LAT  \\\n",
       "datetime                                                                      \n",
       "2011-01-08 12:55:00            REVERE      01/08/2011   12:55 PM  42.428736   \n",
       "2011-01-12 12:23:00        MANCHESTER      01/12/2011   12:23 PM  42.590394   \n",
       "2011-01-12 12:23:00        MANCHESTER      01/12/2011   12:23 PM  42.590394   \n",
       "2011-01-08 13:14:00  WEST SPRINGFIELD      01/08/2011    1:14 PM  42.135914   \n",
       "2011-01-07 15:02:00             SAVOY      01/07/2011    3:02 PM  42.634329   \n",
       "\n",
       "                           LON                    geometry  \n",
       "datetime                                                    \n",
       "2011-01-08 12:55:00 -71.017399  POINT (42.42874 -71.01740)  \n",
       "2011-01-12 12:23:00 -70.793323  POINT (42.59039 -70.79332)  \n",
       "2011-01-12 12:23:00 -70.793323  POINT (42.59039 -70.79332)  \n",
       "2011-01-08 13:14:00 -72.618836  POINT (42.13591 -72.61884)  \n",
       "2011-01-07 15:02:00 -72.973417  POINT (42.63433 -72.97342)  "
      ]
     },
     "execution_count": 62,
     "metadata": {},
     "output_type": "execute_result"
    }
   ],
   "source": [
    "geoDF.head()"
   ]
  },
  {
   "cell_type": "code",
   "execution_count": 57,
   "metadata": {},
   "outputs": [
    {
     "data": {
      "text/plain": [
       "'88434e04c5fffff'"
      ]
     },
     "execution_count": 57,
     "metadata": {},
     "output_type": "execute_result"
    }
   ],
   "source": [
    "h3.geo_to_h3(34, 65, 8)"
   ]
  },
  {
   "cell_type": "code",
   "execution_count": 72,
   "metadata": {},
   "outputs": [
    {
     "ename": "TypeError",
     "evalue": "only size-1 arrays can be converted to Python scalars",
     "output_type": "error",
     "traceback": [
      "\u001b[1;31m---------------------------------------------------------------------------\u001b[0m",
      "\u001b[1;31mTypeError\u001b[0m                                 Traceback (most recent call last)",
      "\u001b[1;32m<ipython-input-72-dc5798cabb99>\u001b[0m in \u001b[0;36m<module>\u001b[1;34m\u001b[0m\n\u001b[1;32m----> 1\u001b[1;33m \u001b[0mgeoDF\u001b[0m\u001b[1;33m[\u001b[0m\u001b[1;34m'hex'\u001b[0m\u001b[1;33m]\u001b[0m \u001b[1;33m=\u001b[0m \u001b[0mdf\u001b[0m\u001b[1;33m.\u001b[0m\u001b[0mapply\u001b[0m\u001b[1;33m(\u001b[0m\u001b[0mh3\u001b[0m\u001b[1;33m.\u001b[0m\u001b[0mgeo_to_h3\u001b[0m\u001b[1;33m(\u001b[0m\u001b[0mgeoDF\u001b[0m\u001b[1;33m.\u001b[0m\u001b[0mgeometry\u001b[0m\u001b[1;33m.\u001b[0m\u001b[0mx\u001b[0m\u001b[1;33m.\u001b[0m\u001b[0mvalues\u001b[0m\u001b[1;33m,\u001b[0m \u001b[0mgeoDF\u001b[0m\u001b[1;33m.\u001b[0m\u001b[0mgeometry\u001b[0m\u001b[1;33m.\u001b[0m\u001b[0my\u001b[0m\u001b[1;33m.\u001b[0m\u001b[0mvalues\u001b[0m\u001b[1;33m,\u001b[0m \u001b[1;36m10\u001b[0m\u001b[1;33m)\u001b[0m\u001b[1;33m,\u001b[0m \u001b[0maxis\u001b[0m\u001b[1;33m=\u001b[0m\u001b[1;36m1\u001b[0m\u001b[1;33m)\u001b[0m\u001b[1;33m\u001b[0m\u001b[1;33m\u001b[0m\u001b[0m\n\u001b[0m",
      "\u001b[1;32m~\\anaconda3\\envs\\gdal\\lib\\site-packages\\h3\\api\\_api_template.py\u001b[0m in \u001b[0;36mgeo_to_h3\u001b[1;34m(lat, lng, resolution)\u001b[0m\n\u001b[0;32m    185\u001b[0m \u001b[1;33m\u001b[0m\u001b[0m\n\u001b[0;32m    186\u001b[0m         \"\"\"\n\u001b[1;32m--> 187\u001b[1;33m         \u001b[1;32mreturn\u001b[0m \u001b[0m_out_scalar\u001b[0m\u001b[1;33m(\u001b[0m\u001b[0m_cy\u001b[0m\u001b[1;33m.\u001b[0m\u001b[0mgeo_to_h3\u001b[0m\u001b[1;33m(\u001b[0m\u001b[0mlat\u001b[0m\u001b[1;33m,\u001b[0m \u001b[0mlng\u001b[0m\u001b[1;33m,\u001b[0m \u001b[0mresolution\u001b[0m\u001b[1;33m)\u001b[0m\u001b[1;33m)\u001b[0m\u001b[1;33m\u001b[0m\u001b[1;33m\u001b[0m\u001b[0m\n\u001b[0m\u001b[0;32m    188\u001b[0m \u001b[1;33m\u001b[0m\u001b[0m\n\u001b[0;32m    189\u001b[0m     \u001b[1;32mdef\u001b[0m \u001b[0mh3_to_geo\u001b[0m\u001b[1;33m(\u001b[0m\u001b[0mh\u001b[0m\u001b[1;33m)\u001b[0m\u001b[1;33m:\u001b[0m\u001b[1;33m\u001b[0m\u001b[1;33m\u001b[0m\u001b[0m\n",
      "\u001b[1;32mgeo.pyx\u001b[0m in \u001b[0;36mh3._cy.geo.geo_to_h3\u001b[1;34m()\u001b[0m\n",
      "\u001b[1;31mTypeError\u001b[0m: only size-1 arrays can be converted to Python scalars"
     ]
    }
   ],
   "source": [
    "geoDF['hex'] = df.apply(h3.geo_to_h3(geoDF.geometry.x.values, geoDF.geometry.y.values, 10), axis=1)"
   ]
  },
  {
   "cell_type": "code",
   "execution_count": 67,
   "metadata": {},
   "outputs": [],
   "source": [
    "arr = geoDF.geometry.y.values"
   ]
  },
  {
   "cell_type": "code",
   "execution_count": 71,
   "metadata": {},
   "outputs": [
    {
     "data": {
      "text/plain": [
       "(210197,)"
      ]
     },
     "execution_count": 71,
     "metadata": {},
     "output_type": "execute_result"
    }
   ],
   "source": [
    "arr.shape"
   ]
  },
  {
   "cell_type": "code",
   "execution_count": 54,
   "metadata": {},
   "outputs": [
    {
     "name": "stdout",
     "output_type": "stream",
     "text": [
      "Help on function geo_to_h3 in module h3.api._api_template:\n",
      "\n",
      "geo_to_h3(lat, lng, resolution)\n",
      "    Return the cell containing the (lat, lng) point\n",
      "    for a given resolution.\n",
      "    \n",
      "    Returns\n",
      "    -------\n",
      "    H3Cell\n",
      "\n"
     ]
    }
   ],
   "source": [
    "help(h3.geo_to_h3)"
   ]
  },
  {
   "cell_type": "code",
   "execution_count": null,
   "metadata": {},
   "outputs": [],
   "source": []
  }
 ],
 "metadata": {
  "kernelspec": {
   "display_name": "Python 3",
   "language": "python",
   "name": "python3"
  },
  "language_info": {
   "codemirror_mode": {
    "name": "ipython",
    "version": 3
   },
   "file_extension": ".py",
   "mimetype": "text/x-python",
   "name": "python",
   "nbconvert_exporter": "python",
   "pygments_lexer": "ipython3",
   "version": "3.8.5"
  }
 },
 "nbformat": 4,
 "nbformat_minor": 4
}
